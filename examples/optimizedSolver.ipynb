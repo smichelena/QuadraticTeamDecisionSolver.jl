{
 "cells": [
  {
   "cell_type": "code",
   "execution_count": 1,
   "metadata": {},
   "outputs": [],
   "source": [
    "using QuadraticTeamDecisionSolver, Distributions, Statistics, LinearAlgebra, Plots, LaTeXStrings, BlockDiagonals, Plots.PlotMeasures"
   ]
  },
  {
   "cell_type": "code",
   "execution_count": 2,
   "metadata": {},
   "outputs": [],
   "source": [
    "dpi=1000;\n",
    "l=1.5;"
   ]
  },
  {
   "cell_type": "code",
   "execution_count": 3,
   "metadata": {},
   "outputs": [],
   "source": [
    "N = K = 2;\n",
    "L = 3; #multiple antennas -> vector valued gammas\n",
    "P = 0.7; \n",
    "σₕ = 1.0;\n",
    "σₙ = σₕ/10;\n",
    "ϵ = 0.2;\n",
    "p = QuadTeamProblem(N, N * K * L * ones(Int64, N), L*ones(Int64, N), ComplexF64);\n",
    "t = teamMMSEproblem(\n",
    "\tP,\n",
    "\tN,\n",
    "\tL,\n",
    "\tK,\n",
    "\tσₕ * ones(Float64, N),\n",
    "\tσₙ * ones(Float64, N),\n",
    "\tϵ * ones(Float64, N)\n",
    ");\n"
   ]
  },
  {
   "cell_type": "code",
   "execution_count": 4,
   "metadata": {},
   "outputs": [],
   "source": [
    "S = 100;\n",
    "iters = 10;\n",
    "Y_data, _, _ = generateTeamMMSEsamples(t, S);\n",
    "_, Q_data, R_data = generateTeamMMSEsamples(t, Int(ceil(S/2)));"
   ]
  },
  {
   "cell_type": "code",
   "execution_count": 5,
   "metadata": {},
   "outputs": [],
   "source": [
    "C1 = mean(Q_data[1, 1]);\n",
    "C2 = mean(Q_data[2, 2]);\n",
    "h1 = h2 = 0.5;\n",
    "λ1 = λ2 = σₙ^2; #noise variance\n",
    "\n",
    "K1(x, t) = matrixExponentialKernel([h1], [C1], [λ1], x, t);\n",
    "K2(x, t) = matrixExponentialKernel([h2], [C2], [λ2], x, t);\n",
    "kernels = [K1, K2];\n",
    "λ = [λ1, λ2];\n"
   ]
  },
  {
   "cell_type": "code",
   "execution_count": 6,
   "metadata": {},
   "outputs": [
    {
     "name": "stdout",
     "output_type": "stream",
     "text": [
      "  0.680515 seconds (1.20 M allocations: 74.382 MiB, 1.96% gc time, 98.69% compilation time)\n"
     ]
    }
   ],
   "source": [
    "@time Y, Q, R = reformatData(Y_data, Q_data, R_data);"
   ]
  },
  {
   "cell_type": "code",
   "execution_count": 7,
   "metadata": {},
   "outputs": [
    {
     "name": "stdout",
     "output_type": "stream",
     "text": [
      "  1.524529 seconds (2.82 M allocations: 190.026 MiB, 3.80% gc time, 98.06% compilation time)\n"
     ]
    }
   ],
   "source": [
    "@time G_o, G_p, C, Q_f = solverPreprocessing(Y, Q, λ, kernels, L, K, N, S);"
   ]
  },
  {
   "cell_type": "code",
   "execution_count": 8,
   "metadata": {},
   "outputs": [
    {
     "ename": "MethodError",
     "evalue": "MethodError: no method matching optimizedGaussSeidel(::Vector{Matrix{ComplexF64}}, ::Vector{Matrix{ComplexF64}}, ::Vector{Cholesky{ComplexF64, Matrix{ComplexF64}}}, ::Matrix{AbstractMatrix{ComplexF64}}, ::Vector{Vector{ComplexF64}}; iterations::Int64)\n\nClosest candidates are:\n  optimizedGaussSeidel(::Vector{<:Matrix}, ::Vector, !Matched::Matrix{<:AbstractMatrix}, !Matched::Vector{<:Vector}; iterations)\n   @ QuadraticTeamDecisionSolver ~/QuadraticTeamDecisionSolver.jl/src/fixedPointSolvers.jl:282\n",
     "output_type": "error",
     "traceback": [
      "MethodError: no method matching optimizedGaussSeidel(::Vector{Matrix{ComplexF64}}, ::Vector{Matrix{ComplexF64}}, ::Vector{Cholesky{ComplexF64, Matrix{ComplexF64}}}, ::Matrix{AbstractMatrix{ComplexF64}}, ::Vector{Vector{ComplexF64}}; iterations::Int64)\n",
      "\n",
      "Closest candidates are:\n",
      "  optimizedGaussSeidel(::Vector{<:Matrix}, ::Vector, !Matched::Matrix{<:AbstractMatrix}, !Matched::Vector{<:Vector}; iterations)\n",
      "   @ QuadraticTeamDecisionSolver ~/QuadraticTeamDecisionSolver.jl/src/fixedPointSolvers.jl:282\n",
      "\n",
      "\n",
      "Stacktrace:\n",
      " [1] top-level scope\n",
      "   @ ./timing.jl:273 [inlined]\n",
      " [2] top-level scope\n",
      "   @ ~/QuadraticTeamDecisionSolver.jl/examples/optimizedSolver.ipynb:0"
     ]
    }
   ],
   "source": [
    "@time g = optimizedGaussSeidel(G_p, C, Q_f, R, iterations=iters);"
   ]
  },
  {
   "cell_type": "code",
   "execution_count": 9,
   "metadata": {},
   "outputs": [
    {
     "ename": "UndefVarError",
     "evalue": "UndefVarError: `g` not defined",
     "output_type": "error",
     "traceback": [
      "UndefVarError: `g` not defined\n",
      "\n",
      "Stacktrace:\n",
      " [1] top-level scope\n",
      "   @ ~/QuadraticTeamDecisionSolver.jl/examples/optimizedSolver.ipynb:1"
     ]
    }
   ],
   "source": [
    "γ = vcat.(g...);\n",
    "conv = norm.(diff(γ));\n"
   ]
  },
  {
   "cell_type": "code",
   "execution_count": 10,
   "metadata": {},
   "outputs": [
    {
     "ename": "UndefVarError",
     "evalue": "UndefVarError: `γ` not defined",
     "output_type": "error",
     "traceback": [
      "UndefVarError: `γ` not defined\n",
      "\n",
      "Stacktrace:\n",
      " [1] top-level scope\n",
      "   @ ~/QuadraticTeamDecisionSolver.jl/examples/optimizedSolver.ipynb:1"
     ]
    }
   ],
   "source": [
    "γ_f = [[v[l:l+L-1] for l in 1:L:length(v)] for v in γ];\n"
   ]
  },
  {
   "cell_type": "code",
   "execution_count": 11,
   "metadata": {},
   "outputs": [
    {
     "ename": "UndefVarError",
     "evalue": "UndefVarError: `γ_f` not defined",
     "output_type": "error",
     "traceback": [
      "UndefVarError: `γ_f` not defined\n",
      "\n",
      "Stacktrace:\n",
      " [1] top-level scope\n",
      "   @ ~/QuadraticTeamDecisionSolver.jl/examples/optimizedSolver.ipynb:1"
     ]
    }
   ],
   "source": [
    "variance = norm.(diff(cov.(γ_f)));\n",
    "first_moment = norm.(diff(mean.(γ_f)));"
   ]
  },
  {
   "cell_type": "code",
   "execution_count": 12,
   "metadata": {},
   "outputs": [
    {
     "ename": "UndefVarError",
     "evalue": "UndefVarError: `conv` not defined",
     "output_type": "error",
     "traceback": [
      "UndefVarError: `conv` not defined\n",
      "\n",
      "Stacktrace:\n",
      " [1] top-level scope\n",
      "   @ ~/QuadraticTeamDecisionSolver.jl/examples/optimizedSolver.ipynb:1"
     ]
    }
   ],
   "source": [
    "arg = plot(\n",
    "\t1:iters,\n",
    "\tconv,\n",
    "\tlabel = L\"||\\gamma_{k+1}(\\mathbf{Y})-\\gamma_k(\\mathbf{Y})||\",\n",
    "\tdpi = dpi,\n",
    "\tlinewidth = l,\n",
    "\tyscale = :log10,\n",
    "\ttitle = \"Convergence in Argument\",\n",
    "\txlabel = \"Iterations \" * L\"k\",\n",
    ")\n",
    "meas = plot(\n",
    "\t[variance, first_moment],\n",
    "\tyscale = :log10,\n",
    "\tlabel = [L\"|\\mathbb{E}[\\gamma_{k+1}(\\mathbf{Y})] - \\mathbb{E}[\\gamma_{k}(\\mathbf{Y})]|\" L\"|\\mathrm{Var}[\\gamma_{k+1}(\\mathbf{Y})] - \\mathrm{Var}[\\gamma_{k}(\\mathbf{Y})]|\"],\n",
    "\tdpi = dpi,\n",
    "\tlinewidth = l,\n",
    "\ttitle = \"Convergence in Measure\",\n",
    "\txlabel = \"Iterations \" * L\"k\",\n",
    ")\n",
    "plot(\n",
    "\targ,\n",
    "\tmeas,\n",
    "\tlayout = (1, 2),\n",
    "\tsize = (1000, 300),\n",
    "\tleft_margin = 20px,\n",
    "\tbottom_margin = 20px,\n",
    ")\n"
   ]
  }
 ],
 "metadata": {
  "kernelspec": {
   "display_name": "Julia 1.9.2",
   "language": "julia",
   "name": "julia-1.9"
  },
  "language_info": {
   "file_extension": ".jl",
   "mimetype": "application/julia",
   "name": "julia",
   "version": "1.9.2"
  }
 },
 "nbformat": 4,
 "nbformat_minor": 2
}
